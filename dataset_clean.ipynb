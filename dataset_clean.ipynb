{
 "cells": [
  {
   "cell_type": "code",
   "execution_count": 9,
   "metadata": {},
   "outputs": [],
   "source": [
    "import pandas as pd\n",
    "from datasets import Dataset, load_from_disk\n",
    "import torchvision.transforms as transforms\n",
    "import json\n",
    "from PIL import Image\n",
    "import os\n",
    "import re"
   ]
  },
  {
   "cell_type": "code",
   "execution_count": 10,
   "metadata": {},
   "outputs": [],
   "source": [
    "with open(\"data/coco/annotations/captions_train2017.json\",'r') as fh:\n",
    "    raw_train_data = json.load(fh)\n",
    "with open(\"data/coco/annotations/captions_val2017.json\",'r') as fh:\n",
    "    raw_val_data = json.load(fh)"
   ]
  },
  {
   "cell_type": "code",
   "execution_count": 11,
   "metadata": {},
   "outputs": [],
   "source": [
    "train_df = pd.DataFrame(raw_train_data[\"annotations\"])\n",
    "train_df.drop_duplicates(subset=['image_id'], inplace=True)\n",
    "train_df = train_df[:25000]\n",
    "val_df = pd.DataFrame(raw_val_data[\"annotations\"])\n",
    "val_df.drop_duplicates(subset=['image_id'], inplace=True)"
   ]
  },
  {
   "cell_type": "code",
   "execution_count": 12,
   "metadata": {},
   "outputs": [],
   "source": [
    "def map_image_id_to_image(image_id, split='train'):\n",
    "    image_folder = f'data/coco/{split}2017/'\n",
    "    # format image id with leading zeros\n",
    "    filename = \"\"\n",
    "    for i in range(12-len(str(image_id))):\n",
    "        filename += '0'\n",
    "    filename += str(image_id)\n",
    "    formatted_image_id = re.sub(r'^(\\d+)$', lambda x: x.group(1).zfill(6), filename)\n",
    "    image_filename = f\"{formatted_image_id}.JPG\"  # Assuming the file extension is '.jpeg'\n",
    "    return os.path.join(image_folder, image_filename)\n",
    "\n",
    "# Apply the function to create the new column\n",
    "train_df['img_path'] = train_df['image_id'].apply(map_image_id_to_image)\n",
    "train_df['is_file'] = train_df['img_path'].apply(lambda x : os.path.isfile(x))\n",
    "train_df = train_df[train_df['is_file'] == True]\n",
    "val_df['img_path'] = val_df['image_id'].apply(map_image_id_to_image)\n",
    "val_df['is_file'] = val_df['img_path'].apply(lambda x : os.path.isfile(x))\n",
    "val_df = val_df[val_df['is_file'] == True]"
   ]
  },
  {
   "cell_type": "code",
   "execution_count": 13,
   "metadata": {},
   "outputs": [],
   "source": [
    "transform = transforms.Compose(\n",
    "        [transforms.ToTensor(),\n",
    "        transforms.Resize((128, 128)),\n",
    "        transforms.Normalize((0.5, 0.5, 0.5), (0.5, 0.5, 0.5))])\n",
    "\n",
    "def preprocess_img(data_entry, split='train'):\n",
    "    raw  = Image.open(data_entry['img_path']).convert(\"RGB\")\n",
    "    processed = transform(raw)\n",
    "    return {'raw_image': raw, 'img': processed}"
   ]
  },
  {
   "cell_type": "code",
   "execution_count": 14,
   "metadata": {},
   "outputs": [
    {
     "name": "stderr",
     "output_type": "stream",
     "text": [
      "Map: 100%|██████████| 25000/25000 [1:05:59<00:00,  6.31 examples/s] \n"
     ]
    }
   ],
   "source": [
    "train_dataset = Dataset.from_pandas(train_df, preserve_index=False)\n",
    "val_dataset = Dataset.from_pandas(val_df, preserve_index=False)\n",
    "\n",
    "val_dataset = val_dataset.map(lambda x: preprocess_img(x, split='val'))\n",
    "train_dataset = train_dataset.map(lambda x: preprocess_img(x, split='train'))\n"
   ]
  },
  {
   "cell_type": "code",
   "execution_count": 15,
   "metadata": {},
   "outputs": [
    {
     "name": "stderr",
     "output_type": "stream",
     "text": [
      "Saving the dataset (35/35 shards): 100%|██████████| 25000/25000 [01:25<00:00, 291.00 examples/s]\n",
      "Saving the dataset (1/1 shards): : 0 examples [00:00, ? examples/s]\n"
     ]
    }
   ],
   "source": [
    "train_dataset.save_to_disk(\"processed_train\")\n",
    "val_dataset.save_to_disk(\"processed_val\")\n"
   ]
  }
 ],
 "metadata": {
  "kernelspec": {
   "display_name": "base",
   "language": "python",
   "name": "python3"
  },
  "language_info": {
   "codemirror_mode": {
    "name": "ipython",
    "version": 3
   },
   "file_extension": ".py",
   "mimetype": "text/x-python",
   "name": "python",
   "nbconvert_exporter": "python",
   "pygments_lexer": "ipython3",
   "version": "3.11.5"
  }
 },
 "nbformat": 4,
 "nbformat_minor": 2
}
